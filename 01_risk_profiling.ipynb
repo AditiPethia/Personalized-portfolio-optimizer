{
 "cells": [
  {
   "cell_type": "code",
   "execution_count": 1,
   "id": "58548547-8bc7-4931-91c3-f40918e8c551",
   "metadata": {},
   "outputs": [],
   "source": [
    "# Step 1: import libraries\n",
    "import pandas as pd\n",
    "import numpy as np"
   ]
  },
  {
   "cell_type": "code",
   "execution_count": 5,
   "id": "f81666db-78d2-48cf-be19-9ef37d020fa1",
   "metadata": {},
   "outputs": [],
   "source": [
    "# step 2: create sample user data\n",
    "data = {\n",
    "    'user_id':[1, 2, 3, 4, 5],\n",
    "    'age': [25, 46, 36, 62, 24],\n",
    "    'income':[30000, 70000, 50000, 90000, 40000],\n",
    "    'investment_horizon_years': [10, 20, 15, 5, 25],\n",
    "    'volatility_tolerance': ['low', 'medium', 'medium', 'low', 'high']\n",
    "}\n",
    "df = pd.DataFrame(data)\n",
    "\n"
   ]
  },
  {
   "cell_type": "code",
   "execution_count": 7,
   "id": "d45f2ec0-4dd6-4c30-ae86-6842bf818619",
   "metadata": {},
   "outputs": [
    {
     "name": "stdout",
     "output_type": "stream",
     "text": [
      "   user_id  age  income  investment_horizon_years volatility_tolerance  \\\n",
      "0        1   25   30000                        10                  low   \n",
      "1        2   46   70000                        20               medium   \n",
      "2        3   36   50000                        15               medium   \n",
      "3        4   62   90000                         5                  low   \n",
      "4        5   24   40000                        25                 high   \n",
      "\n",
      "  risk_profiling  \n",
      "0    Coservative  \n",
      "1       Balanced  \n",
      "2       Balanced  \n",
      "3    Coservative  \n",
      "4      Agressive  \n"
     ]
    }
   ],
   "source": [
    "# Step 3: basic risk profiling logic\n",
    "def assign_risk(row):\n",
    "    if row ['volatility_tolerance']== 'high' and row['investment_horizon_years'] >= 15:\n",
    "        return 'Agressive'\n",
    "    elif row [ 'volatility_tolerance']== 'medium' :\n",
    "        return 'Balanced'\n",
    "    else:\n",
    "        return 'Coservative'\n",
    "\n",
    "df['risk_profiling'] = df.apply(assign_risk, axis=1)\n",
    "\n",
    "# Step 4: view results\n",
    "print(df)"
   ]
  },
  {
   "cell_type": "code",
   "execution_count": null,
   "id": "7ae47f7a-7ac5-42d9-b0cf-bceac18796ad",
   "metadata": {},
   "outputs": [],
   "source": []
  },
  {
   "cell_type": "code",
   "execution_count": null,
   "id": "d6aa4e6f-4e93-469d-b9fe-cd009b235a7e",
   "metadata": {},
   "outputs": [],
   "source": []
  },
  {
   "cell_type": "code",
   "execution_count": null,
   "id": "8f3ef8da-c50a-42cc-85ba-b1edb82fb1df",
   "metadata": {},
   "outputs": [],
   "source": []
  },
  {
   "cell_type": "code",
   "execution_count": null,
   "id": "15e4c434-67e2-41c1-8ad0-447992487895",
   "metadata": {},
   "outputs": [],
   "source": []
  },
  {
   "cell_type": "code",
   "execution_count": null,
   "id": "b2579401-f1de-4831-b2b1-00806b99ddd2",
   "metadata": {},
   "outputs": [],
   "source": []
  },
  {
   "cell_type": "code",
   "execution_count": null,
   "id": "afba23a5-84d6-4e3b-b398-f51d2d5d9cac",
   "metadata": {},
   "outputs": [],
   "source": []
  },
  {
   "cell_type": "code",
   "execution_count": null,
   "id": "8eabfa9d-ad35-42a3-b30a-370b79e9c8cc",
   "metadata": {},
   "outputs": [],
   "source": []
  },
  {
   "cell_type": "code",
   "execution_count": null,
   "id": "0ebdc377-c011-430c-a0a4-ba7315ec1845",
   "metadata": {},
   "outputs": [],
   "source": []
  },
  {
   "cell_type": "code",
   "execution_count": null,
   "id": "fe24b820-f3a9-4489-8e30-40520420c6c7",
   "metadata": {},
   "outputs": [],
   "source": []
  },
  {
   "cell_type": "code",
   "execution_count": null,
   "id": "383648c1-0607-4274-924e-641dbd2e0b75",
   "metadata": {},
   "outputs": [],
   "source": []
  },
  {
   "cell_type": "code",
   "execution_count": null,
   "id": "26ea95d7-41d9-4ad6-8033-73c861e56090",
   "metadata": {},
   "outputs": [],
   "source": []
  },
  {
   "cell_type": "code",
   "execution_count": null,
   "id": "3c0b2dca-5f74-424f-bea6-da22cfd49ceb",
   "metadata": {},
   "outputs": [],
   "source": []
  },
  {
   "cell_type": "code",
   "execution_count": null,
   "id": "36b56e06-6088-4d6d-a61b-ad18e9d80c56",
   "metadata": {},
   "outputs": [],
   "source": []
  },
  {
   "cell_type": "code",
   "execution_count": null,
   "id": "d1d828bd-2521-45f7-b3dc-bd07b5777293",
   "metadata": {},
   "outputs": [],
   "source": []
  },
  {
   "cell_type": "code",
   "execution_count": null,
   "id": "79b712d3-a1cd-4394-8080-37df5b844142",
   "metadata": {},
   "outputs": [],
   "source": []
  }
 ],
 "metadata": {
  "kernelspec": {
   "display_name": "Python 3 (ipykernel)",
   "language": "python",
   "name": "python3"
  },
  "language_info": {
   "codemirror_mode": {
    "name": "ipython",
    "version": 3
   },
   "file_extension": ".py",
   "mimetype": "text/x-python",
   "name": "python",
   "nbconvert_exporter": "python",
   "pygments_lexer": "ipython3",
   "version": "3.12.4"
  }
 },
 "nbformat": 4,
 "nbformat_minor": 5
}
